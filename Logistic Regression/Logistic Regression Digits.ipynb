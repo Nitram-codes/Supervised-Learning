{
 "cells": [
  {
   "cell_type": "markdown",
   "metadata": {},
   "source": [
    "# Logisitic Regression Classifier with the Digits Dataset"
   ]
  },
  {
   "cell_type": "markdown",
   "metadata": {},
   "source": [
    "The Digits dataset is composed of hand-written integers from zero to nine. Each sample in the dataset consists of 64 features, each representing the grayscale value of a pixel. The 64 features can be rearranged into an 8x8 grid, which when passed to imshow produce an image of the hand-written integer. The aim of this program is to train a logisitic regression classifier to be able to recognise the hand-written integers in the dataset."
   ]
  },
  {
   "cell_type": "markdown",
   "metadata": {},
   "source": [
    "We begin by loading the digits dataset and assigning the X and y variables to the features and target respectively. Then we split the data into training and testing sets and visualise some of the samples."
   ]
  },
  {
   "cell_type": "code",
   "execution_count": 4,
   "metadata": {},
   "outputs": [
    {
     "data": {
      "image/png": "[encoded data removed]",
      "text/plain": [
       "<Figure size 432x288 with 4 Axes>"
      ]
     },
     "metadata": {},
     "output_type": "display_data"
    }
   ],
   "source": [
    "import pandas as pd\n",
    "import seaborn as sns\n",
    "import matplotlib.pyplot as plt\n",
    "from sklearn import datasets\n",
    "from sklearn.model_selection import train_test_split\n",
    "from sklearn.linear_model import LogisticRegression\n",
    "from sklearn.metrics import classification_report, confusion_matrix, roc_curve, roc_auc_score\n",
    "\n",
    "digits = datasets.load_digits()\n",
    "# assign features\n",
    "# the data consists of 1797 samples\n",
    "# each sample has 64 features\n",
    "# the 64 features are greyscale values that can be rearranged into an 8x8 grid to form an image of a number\n",
    "X = digits.data\n",
    "y = digits.target\n",
    "\n",
    "# split into training and testing data\n",
    "X_train, X_test, y_train, y_test = train_test_split(X, y, test_size=0.2, random_state=5)\n",
    "\n",
    "# visualise first four samples of the data\n",
    "fig, axes = plt.subplots(nrows=2, ncols=2)\n",
    "for i, ax in enumerate(axes.ravel()):\n",
    "    ax.imshow(X[i].reshape(8,8), cmap = plt.cm.gray)\n",
    "    ax.grid(False)\n",
    "    ax.set_xticks([])\n",
    "    ax.set_yticks([])\n",
    "plt.show()"
   ]
  },
  {
   "cell_type": "markdown",
   "metadata": {},
   "source": [
    "Create the logistic regression classifier and fit to the training data. Then compute the confusion matrix and classification report for the training data. We will not bother investigating the effects of regularisation and will use the default value of $C$."
   ]
  },
  {
   "cell_type": "code",
   "execution_count": 8,
   "metadata": {},
   "outputs": [
    {
     "name": "stdout",
     "output_type": "stream",
     "text": [
      "[[143   0   0   0   0   0   0   0   0   0]\n",
      " [  0 147   0   0   0   0   0   0   0   0]\n",
      " [  0   0 141   0   0   0   0   0   0   0]\n",
      " [  0   0   0 146   0   0   0   0   0   0]\n",
      " [  0   0   0   0 149   0   0   0   0   0]\n",
      " [  0   0   0   0   0 136   0   0   0   0]\n",
      " [  0   0   0   0   0   0 151   0   0   0]\n",
      " [  0   0   0   0   0   0   0 137   0   0]\n",
      " [  0   5   0   0   0   0   0   0 131   0]\n",
      " [  0   0   0   0   0   0   0   0   2 149]]\n",
      "              precision    recall  f1-score   support\n",
      "\n",
      "           0       1.00      1.00      1.00       143\n",
      "           1       0.97      1.00      0.98       147\n",
      "           2       1.00      1.00      1.00       141\n",
      "           3       1.00      1.00      1.00       146\n",
      "           4       1.00      1.00      1.00       149\n",
      "           5       1.00      1.00      1.00       136\n",
      "           6       1.00      1.00      1.00       151\n",
      "           7       1.00      1.00      1.00       137\n",
      "           8       0.98      0.96      0.97       136\n",
      "           9       1.00      0.99      0.99       151\n",
      "\n",
      "    accuracy                           1.00      1437\n",
      "   macro avg       1.00      0.99      1.00      1437\n",
      "weighted avg       1.00      1.00      1.00      1437\n",
      "\n"
     ]
    }
   ],
   "source": [
    "# create logistic regressor\n",
    "log_reg = LogisticRegression(solver = 'liblinear', multi_class = 'auto')\n",
    "# fit to training data\n",
    "log_reg.fit(X_train, y_train)\n",
    "# predict y_train\n",
    "y_train_pred = log_reg.predict(X_train)\n",
    "# compute confusion matrix and classification report for training data\n",
    "print(confusion_matrix(y_train, y_train_pred))\n",
    "print(classification_report(y_train, y_train_pred))"
   ]
  },
  {
   "cell_type": "markdown",
   "metadata": {},
   "source": [
    "The classifier performance is near perfect for the training data. Now we will see how this compares to performance on the test data."
   ]
  },
  {
   "cell_type": "code",
   "execution_count": 9,
   "metadata": {},
   "outputs": [
    {
     "name": "stdout",
     "output_type": "stream",
     "text": [
      "[[35  0  0  0  0  0  0  0  0  0]\n",
      " [ 0 34  0  1  0  0  0  0  0  0]\n",
      " [ 0  0 36  0  0  0  0  0  0  0]\n",
      " [ 0  0  1 35  0  1  0  0  0  0]\n",
      " [ 0  1  0  0 30  0  0  1  0  0]\n",
      " [ 0  0  0  0  0 44  0  0  0  2]\n",
      " [ 0  0  0  0  0  0 29  0  1  0]\n",
      " [ 0  0  0  0  0  0  0 41  0  1]\n",
      " [ 0  1  0  0  0  0  0  0 36  1]\n",
      " [ 0  0  0  0  0  1  0  0  2 26]]\n",
      "              precision    recall  f1-score   support\n",
      "\n",
      "           0       1.00      1.00      1.00        35\n",
      "           1       0.94      0.97      0.96        35\n",
      "           2       0.97      1.00      0.99        36\n",
      "           3       0.97      0.95      0.96        37\n",
      "           4       1.00      0.94      0.97        32\n",
      "           5       0.96      0.96      0.96        46\n",
      "           6       1.00      0.97      0.98        30\n",
      "           7       0.98      0.98      0.98        42\n",
      "           8       0.92      0.95      0.94        38\n",
      "           9       0.87      0.90      0.88        29\n",
      "\n",
      "    accuracy                           0.96       360\n",
      "   macro avg       0.96      0.96      0.96       360\n",
      "weighted avg       0.96      0.96      0.96       360\n",
      "\n"
     ]
    }
   ],
   "source": [
    "# predict y_test\n",
    "y_test_pred = log_reg.predict(X_test)\n",
    "print(confusion_matrix(y_test, y_test_pred))\n",
    "print(classification_report(y_test, y_test_pred))"
   ]
  },
  {
   "cell_type": "markdown",
   "metadata": {},
   "source": [
    "The classifier performance is still excellent, though not quite as good as for the training set."
   ]
  },
  {
   "cell_type": "markdown",
   "metadata": {},
   "source": [
    "Next we go about plotting the Receiver Operating Characteristic (ROC) curves for the different classes. To do this we need to one-hot encode the target test data which consists of a single column of values ranging from 0 to 9. The idea is to convert this column into 10 binary columns that indicate the original value."
   ]
  },
  {
   "cell_type": "code",
   "execution_count": 16,
   "metadata": {},
   "outputs": [
    {
     "name": "stdout",
     "output_type": "stream",
     "text": [
      "[5 2 5 5 5]\n",
      "   0  1  2  3  4  5  6  7  8  9\n",
      "0  0  0  0  0  0  1  0  0  0  0\n",
      "1  0  0  1  0  0  0  0  0  0  0\n",
      "2  0  0  0  0  0  1  0  0  0  0\n",
      "3  0  0  0  0  0  1  0  0  0  0\n",
      "4  0  0  0  0  0  1  0  0  0  0\n"
     ]
    }
   ],
   "source": [
    "# there are 10 possible y values\n",
    "# in order to plot multiple ROC curves we have to 'one hot encode'\n",
    "# y_onehot consists of 10 columns, one for each possible y value\n",
    "# if y_i = 2 for a sample in y, then the third column in y_onehot is assigned a 1 and all the others get a 0\n",
    "y_onehot = pd.get_dummies(y_test)\n",
    "# print first 5 rows of y_test and y_onehot for demonstration\n",
    "print(y_test[:5])\n",
    "print(y_onehot.iloc[:5,:])"
   ]
  },
  {
   "cell_type": "markdown",
   "metadata": {},
   "source": [
    "Generate plot and add ROC curves."
   ]
  },
  {
   "cell_type": "code",
   "execution_count": 20,
   "metadata": {},
   "outputs": [
    {
     "data": {
      "image/png": "[encoded data removed]",
      "text/plain": [
       "<Figure size 720x720 with 1 Axes>"
      ]
     },
     "metadata": {},
     "output_type": "display_data"
    }
   ],
   "source": [
    "# compute predicted y probabilities from X_test\n",
    "y_pred_prob = log_reg.predict_proba(X_test)\n",
    "\n",
    "# create plot and add straight line\n",
    "sns.set_style('darkgrid')\n",
    "fig2 = plt.figure(figsize = (10, 10))\n",
    "ax2 = fig2.add_subplot(111)\n",
    "ax2.plot([0, 1], [0, 1], color = 'k')\n",
    "ax2.set_xlabel('False Positive Rate', fontsize = 12)\n",
    "ax2.set_ylabel('True Positive Rate', fontsize = 12)\n",
    "ax2.set_title('ROC Curve', fontsize = 20)\n",
    "\n",
    "# plot curve for each class\n",
    "for i in range(y_onehot.shape[1]):\n",
    "    y_actual = y_onehot.iloc[:, i]\n",
    "    y_prob = y_pred_prob[:, i]\n",
    "    fpr, tpr, _ = roc_curve(y_actual, y_prob)\n",
    "    auc_score = roc_auc_score(y_actual, y_prob)\n",
    "\n",
    "    ax2.plot(fpr, tpr, label = '{}'.format(i))\n",
    "    \n",
    "plt.legend()\n",
    "plt.show()"
   ]
  },
  {
   "cell_type": "markdown",
   "metadata": {},
   "source": [
    "To finish off we will view as images some of the misclassified samples."
   ]
  },
  {
   "cell_type": "code",
   "execution_count": 22,
   "metadata": {},
   "outputs": [
    {
     "data": {
      "image/png": "[encoded data removed]",
      "text/plain": [
       "<Figure size 432x288 with 4 Axes>"
      ]
     },
     "metadata": {},
     "output_type": "display_data"
    }
   ],
   "source": [
    "# display first 4 misclassified images\n",
    "misclss_index = []\n",
    "# i is index, vals is the zip tuple\n",
    "for i, vals in enumerate(zip(y_test, y_test_pred)):\n",
    "    # if y_test != y_test_pred store the index\n",
    "    if vals[0] != vals[1]:\n",
    "        misclss_index.append(i)\n",
    "misclss_index = misclss_index[:4]\n",
    "\n",
    "# visualise\n",
    "fig4, axes2 = plt.subplots(nrows=2, ncols=2)\n",
    "for i, ax in enumerate(axes2.ravel()):\n",
    "    # plot image of the sample in X_test indexed by misclss_index[i]\n",
    "    # where i runs from 0 to 3\n",
    "    ax.imshow(X_test[misclss_index[i]].reshape(8,8), cmap = plt.cm.gray)\n",
    "    # add titles with the corresponding values from y_test and y_test_pred\n",
    "    ax.set_title('Actual: {}, Predicted: {}'.format(y_test[misclss_index[i]],\n",
    "                                            y_test_pred[misclss_index[i]]))\n",
    "    ax.set_yticks([])\n",
    "    ax.grid(False)"
   ]
  }
 ],
 "metadata": {
  "kernelspec": {
   "display_name": "Python 3",
   "language": "python",
   "name": "python3"
  },
  "language_info": {
   "codemirror_mode": {
    "name": "ipython",
    "version": 3
   },
   "file_extension": ".py",
   "mimetype": "text/x-python",
   "name": "python",
   "nbconvert_exporter": "python",
   "pygments_lexer": "ipython3",
   "version": "3.7.3"
  }
 },
 "nbformat": 4,
 "nbformat_minor": 2
}
