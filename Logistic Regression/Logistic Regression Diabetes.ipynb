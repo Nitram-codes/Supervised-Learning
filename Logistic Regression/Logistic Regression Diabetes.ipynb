{
 "cells": [
  {
   "cell_type": "markdown",
   "metadata": {},
   "source": [
    "# Using a Logistic Regression Classifier to Predict Diabetes"
   ]
  },
  {
   "cell_type": "markdown",
   "metadata": {},
   "source": [
    "The objective of this program is to employ a logistic regression clasifier on the Pima Indians Diabetes dataset (available from Kaggle) to predict whether or not a patient has diabetes. Features in the dataset include the number of past pregnancies, BMI, diastolic blood pressure and diabetes pedigree function (dpf). "
   ]
  },
  {
   "cell_type": "markdown",
   "metadata": {},
   "source": [
    "We begin by reading the data into a Pandas dataframe, checking for missing values and assigning the features to X and the target variable to y."
   ]
  },
  {
   "cell_type": "code",
   "execution_count": 54,
   "metadata": {},
   "outputs": [
    {
     "name": "stdout",
     "output_type": "stream",
     "text": [
      "pregnancies    0\n",
      "glucose        0\n",
      "diastolic      0\n",
      "triceps        0\n",
      "insulin        0\n",
      "bmi            0\n",
      "dpf            0\n",
      "age            0\n",
      "diabetes       0\n",
      "dtype: int64\n"
     ]
    },
    {
     "data": {
      "text/html": [
       "<div>\n",
       "<style scoped>\n",
       "    .dataframe tbody tr th:only-of-type {\n",
       "        vertical-align: middle;\n",
       "    }\n",
       "\n",
       "    .dataframe tbody tr th {\n",
       "        vertical-align: top;\n",
       "    }\n",
       "\n",
       "    .dataframe thead th {\n",
       "        text-align: right;\n",
       "    }\n",
       "</style>\n",
       "<table border=\"1\" class=\"dataframe\">\n",
       "  <thead>\n",
       "    <tr style=\"text-align: right;\">\n",
       "      <th></th>\n",
       "      <th>pregnancies</th>\n",
       "      <th>glucose</th>\n",
       "      <th>diastolic</th>\n",
       "      <th>triceps</th>\n",
       "      <th>insulin</th>\n",
       "      <th>bmi</th>\n",
       "      <th>dpf</th>\n",
       "      <th>age</th>\n",
       "    </tr>\n",
       "  </thead>\n",
       "  <tbody>\n",
       "    <tr>\n",
       "      <th>171</th>\n",
       "      <td>6</td>\n",
       "      <td>134</td>\n",
       "      <td>70</td>\n",
       "      <td>23</td>\n",
       "      <td>130</td>\n",
       "      <td>35.4</td>\n",
       "      <td>0.542</td>\n",
       "      <td>29</td>\n",
       "    </tr>\n",
       "    <tr>\n",
       "      <th>663</th>\n",
       "      <td>9</td>\n",
       "      <td>145</td>\n",
       "      <td>80</td>\n",
       "      <td>46</td>\n",
       "      <td>130</td>\n",
       "      <td>37.9</td>\n",
       "      <td>0.637</td>\n",
       "      <td>40</td>\n",
       "    </tr>\n",
       "    <tr>\n",
       "      <th>610</th>\n",
       "      <td>3</td>\n",
       "      <td>106</td>\n",
       "      <td>54</td>\n",
       "      <td>21</td>\n",
       "      <td>158</td>\n",
       "      <td>30.9</td>\n",
       "      <td>0.292</td>\n",
       "      <td>24</td>\n",
       "    </tr>\n",
       "    <tr>\n",
       "      <th>249</th>\n",
       "      <td>1</td>\n",
       "      <td>111</td>\n",
       "      <td>86</td>\n",
       "      <td>19</td>\n",
       "      <td>0</td>\n",
       "      <td>30.1</td>\n",
       "      <td>0.143</td>\n",
       "      <td>23</td>\n",
       "    </tr>\n",
       "    <tr>\n",
       "      <th>474</th>\n",
       "      <td>4</td>\n",
       "      <td>114</td>\n",
       "      <td>64</td>\n",
       "      <td>0</td>\n",
       "      <td>0</td>\n",
       "      <td>28.9</td>\n",
       "      <td>0.126</td>\n",
       "      <td>24</td>\n",
       "    </tr>\n",
       "    <tr>\n",
       "      <th>746</th>\n",
       "      <td>1</td>\n",
       "      <td>147</td>\n",
       "      <td>94</td>\n",
       "      <td>41</td>\n",
       "      <td>0</td>\n",
       "      <td>49.3</td>\n",
       "      <td>0.358</td>\n",
       "      <td>27</td>\n",
       "    </tr>\n",
       "    <tr>\n",
       "      <th>315</th>\n",
       "      <td>2</td>\n",
       "      <td>112</td>\n",
       "      <td>68</td>\n",
       "      <td>22</td>\n",
       "      <td>94</td>\n",
       "      <td>34.1</td>\n",
       "      <td>0.315</td>\n",
       "      <td>26</td>\n",
       "    </tr>\n",
       "    <tr>\n",
       "      <th>128</th>\n",
       "      <td>1</td>\n",
       "      <td>117</td>\n",
       "      <td>88</td>\n",
       "      <td>24</td>\n",
       "      <td>145</td>\n",
       "      <td>34.5</td>\n",
       "      <td>0.403</td>\n",
       "      <td>40</td>\n",
       "    </tr>\n",
       "    <tr>\n",
       "      <th>346</th>\n",
       "      <td>1</td>\n",
       "      <td>139</td>\n",
       "      <td>46</td>\n",
       "      <td>19</td>\n",
       "      <td>83</td>\n",
       "      <td>28.7</td>\n",
       "      <td>0.654</td>\n",
       "      <td>22</td>\n",
       "    </tr>\n",
       "    <tr>\n",
       "      <th>65</th>\n",
       "      <td>5</td>\n",
       "      <td>99</td>\n",
       "      <td>74</td>\n",
       "      <td>27</td>\n",
       "      <td>0</td>\n",
       "      <td>29.0</td>\n",
       "      <td>0.203</td>\n",
       "      <td>32</td>\n",
       "    </tr>\n",
       "  </tbody>\n",
       "</table>\n",
       "</div>"
      ],
      "text/plain": [
       "     pregnancies  glucose  diastolic  triceps  insulin   bmi    dpf  age\n",
       "171            6      134         70       23      130  35.4  0.542   29\n",
       "663            9      145         80       46      130  37.9  0.637   40\n",
       "610            3      106         54       21      158  30.9  0.292   24\n",
       "249            1      111         86       19        0  30.1  0.143   23\n",
       "474            4      114         64        0        0  28.9  0.126   24\n",
       "746            1      147         94       41        0  49.3  0.358   27\n",
       "315            2      112         68       22       94  34.1  0.315   26\n",
       "128            1      117         88       24      145  34.5  0.403   40\n",
       "346            1      139         46       19       83  28.7  0.654   22\n",
       "65             5       99         74       27        0  29.0  0.203   32"
      ]
     },
     "execution_count": 54,
     "metadata": {},
     "output_type": "execute_result"
    }
   ],
   "source": [
    "import pandas as pd\n",
    "import numpy as np\n",
    "import seaborn as sns\n",
    "from sklearn.utils import shuffle\n",
    "from sklearn.preprocessing import StandardScaler\n",
    "from sklearn.model_selection import train_test_split, cross_val_score, GridSearchCV\n",
    "from sklearn.linear_model import LogisticRegression\n",
    "from sklearn.metrics import roc_curve, roc_auc_score\n",
    "import matplotlib.pyplot as plt\n",
    "\n",
    "# read in data to Pandas data frame\n",
    "df = pd.read_csv('diabetes.csv')\n",
    "# shuffle data before use with sklearn\n",
    "df = shuffle(df)\n",
    "\n",
    "# check if there are any missing entries in the data\n",
    "print(df.isnull().sum())\n",
    "\n",
    "# assign features and target variable\n",
    "X = df.drop('diabetes', axis = 1)\n",
    "y = df['diabetes'].values\n",
    "\n",
    "X.head(10)"
   ]
  },
  {
   "cell_type": "markdown",
   "metadata": {},
   "source": [
    "There are no missing values in the data but there are suspect zeroes in columns we would not expect to find them in, such as diastolic blood pressure and triceps skinfold thickness. This dataset isn't large enough for us to remove all rows with these zeroes in, so we will replace the values with the mean of the column. This is known as imputation. This method isn't perfect, especially with so many 'missing' values in such a small dataset. However, it is the best we can do here."
   ]
  },
  {
   "cell_type": "code",
   "execution_count": 55,
   "metadata": {},
   "outputs": [
    {
     "data": {
      "text/html": [
       "<div>\n",
       "<style scoped>\n",
       "    .dataframe tbody tr th:only-of-type {\n",
       "        vertical-align: middle;\n",
       "    }\n",
       "\n",
       "    .dataframe tbody tr th {\n",
       "        vertical-align: top;\n",
       "    }\n",
       "\n",
       "    .dataframe thead th {\n",
       "        text-align: right;\n",
       "    }\n",
       "</style>\n",
       "<table border=\"1\" class=\"dataframe\">\n",
       "  <thead>\n",
       "    <tr style=\"text-align: right;\">\n",
       "      <th></th>\n",
       "      <th>pregnancies</th>\n",
       "      <th>glucose</th>\n",
       "      <th>diastolic</th>\n",
       "      <th>triceps</th>\n",
       "      <th>insulin</th>\n",
       "      <th>bmi</th>\n",
       "      <th>dpf</th>\n",
       "      <th>age</th>\n",
       "    </tr>\n",
       "  </thead>\n",
       "  <tbody>\n",
       "    <tr>\n",
       "      <th>171</th>\n",
       "      <td>6</td>\n",
       "      <td>134.0</td>\n",
       "      <td>70.0</td>\n",
       "      <td>23.000000</td>\n",
       "      <td>130.000000</td>\n",
       "      <td>35.4</td>\n",
       "      <td>0.542</td>\n",
       "      <td>29</td>\n",
       "    </tr>\n",
       "    <tr>\n",
       "      <th>663</th>\n",
       "      <td>9</td>\n",
       "      <td>145.0</td>\n",
       "      <td>80.0</td>\n",
       "      <td>46.000000</td>\n",
       "      <td>130.000000</td>\n",
       "      <td>37.9</td>\n",
       "      <td>0.637</td>\n",
       "      <td>40</td>\n",
       "    </tr>\n",
       "    <tr>\n",
       "      <th>610</th>\n",
       "      <td>3</td>\n",
       "      <td>106.0</td>\n",
       "      <td>54.0</td>\n",
       "      <td>21.000000</td>\n",
       "      <td>158.000000</td>\n",
       "      <td>30.9</td>\n",
       "      <td>0.292</td>\n",
       "      <td>24</td>\n",
       "    </tr>\n",
       "    <tr>\n",
       "      <th>249</th>\n",
       "      <td>1</td>\n",
       "      <td>111.0</td>\n",
       "      <td>86.0</td>\n",
       "      <td>19.000000</td>\n",
       "      <td>79.799479</td>\n",
       "      <td>30.1</td>\n",
       "      <td>0.143</td>\n",
       "      <td>23</td>\n",
       "    </tr>\n",
       "    <tr>\n",
       "      <th>474</th>\n",
       "      <td>4</td>\n",
       "      <td>114.0</td>\n",
       "      <td>64.0</td>\n",
       "      <td>20.536458</td>\n",
       "      <td>79.799479</td>\n",
       "      <td>28.9</td>\n",
       "      <td>0.126</td>\n",
       "      <td>24</td>\n",
       "    </tr>\n",
       "    <tr>\n",
       "      <th>746</th>\n",
       "      <td>1</td>\n",
       "      <td>147.0</td>\n",
       "      <td>94.0</td>\n",
       "      <td>41.000000</td>\n",
       "      <td>79.799479</td>\n",
       "      <td>49.3</td>\n",
       "      <td>0.358</td>\n",
       "      <td>27</td>\n",
       "    </tr>\n",
       "    <tr>\n",
       "      <th>315</th>\n",
       "      <td>2</td>\n",
       "      <td>112.0</td>\n",
       "      <td>68.0</td>\n",
       "      <td>22.000000</td>\n",
       "      <td>94.000000</td>\n",
       "      <td>34.1</td>\n",
       "      <td>0.315</td>\n",
       "      <td>26</td>\n",
       "    </tr>\n",
       "    <tr>\n",
       "      <th>128</th>\n",
       "      <td>1</td>\n",
       "      <td>117.0</td>\n",
       "      <td>88.0</td>\n",
       "      <td>24.000000</td>\n",
       "      <td>145.000000</td>\n",
       "      <td>34.5</td>\n",
       "      <td>0.403</td>\n",
       "      <td>40</td>\n",
       "    </tr>\n",
       "    <tr>\n",
       "      <th>346</th>\n",
       "      <td>1</td>\n",
       "      <td>139.0</td>\n",
       "      <td>46.0</td>\n",
       "      <td>19.000000</td>\n",
       "      <td>83.000000</td>\n",
       "      <td>28.7</td>\n",
       "      <td>0.654</td>\n",
       "      <td>22</td>\n",
       "    </tr>\n",
       "    <tr>\n",
       "      <th>65</th>\n",
       "      <td>5</td>\n",
       "      <td>99.0</td>\n",
       "      <td>74.0</td>\n",
       "      <td>27.000000</td>\n",
       "      <td>79.799479</td>\n",
       "      <td>29.0</td>\n",
       "      <td>0.203</td>\n",
       "      <td>32</td>\n",
       "    </tr>\n",
       "  </tbody>\n",
       "</table>\n",
       "</div>"
      ],
      "text/plain": [
       "     pregnancies  glucose  diastolic    triceps     insulin   bmi    dpf  age\n",
       "171            6    134.0       70.0  23.000000  130.000000  35.4  0.542   29\n",
       "663            9    145.0       80.0  46.000000  130.000000  37.9  0.637   40\n",
       "610            3    106.0       54.0  21.000000  158.000000  30.9  0.292   24\n",
       "249            1    111.0       86.0  19.000000   79.799479  30.1  0.143   23\n",
       "474            4    114.0       64.0  20.536458   79.799479  28.9  0.126   24\n",
       "746            1    147.0       94.0  41.000000   79.799479  49.3  0.358   27\n",
       "315            2    112.0       68.0  22.000000   94.000000  34.1  0.315   26\n",
       "128            1    117.0       88.0  24.000000  145.000000  34.5  0.403   40\n",
       "346            1    139.0       46.0  19.000000   83.000000  28.7  0.654   22\n",
       "65             5     99.0       74.0  27.000000   79.799479  29.0  0.203   32"
      ]
     },
     "execution_count": 55,
     "metadata": {},
     "output_type": "execute_result"
    }
   ],
   "source": [
    "# select columns for imputing the mean. I'm assuming that the pregancy feature is the only one where a zero is valid\n",
    "cols = X.drop('pregnancies', axis = 1).columns\n",
    "\n",
    "# for each of these columns...\n",
    "for col in cols:\n",
    "    # calculate the mean\n",
    "    mean = X[col].mean()\n",
    "    # replace any zeroes with the mean\n",
    "    X[col].replace(0, mean, inplace = True)\n",
    "X.head(10)"
   ]
  },
  {
   "cell_type": "markdown",
   "metadata": {},
   "source": [
    "We can generate a correlation matrix of the variables to identify which features in the data correlate most strongly with the target variable (diabetes)."
   ]
  },
  {
   "cell_type": "code",
   "execution_count": 56,
   "metadata": {},
   "outputs": [
    {
     "data": {
      "image/png": "[encoded data removed]",
      "text/plain": [
       "<Figure size 432x432 with 1 Axes>"
      ]
     },
     "metadata": {},
     "output_type": "display_data"
    }
   ],
   "source": [
    "# generate plot of correlation matrix of the variables\n",
    "corr_matrix = df.corr()\n",
    "fig = plt.figure(figsize = (6, 6))\n",
    "sns.heatmap(corr_matrix, annot = True, fmt = '.2f', cbar = False)\n",
    "plt.show()"
   ]
  },
  {
   "cell_type": "markdown",
   "metadata": {},
   "source": [
    "The feature most strongly correlated with diabetes is blood glucose."
   ]
  },
  {
   "cell_type": "markdown",
   "metadata": {},
   "source": [
    "The data in the different columns of X varies by orders of magnitude. We are going to be using regularisation so it is important that the data is scaled. For this we use StandardScaler which returns the z-score of a sample."
   ]
  },
  {
   "cell_type": "code",
   "execution_count": 57,
   "metadata": {},
   "outputs": [],
   "source": [
    "# scale data\n",
    "scaler = StandardScaler()\n",
    "X_scaled = scaler.fit_transform(X)"
   ]
  },
  {
   "cell_type": "markdown",
   "metadata": {},
   "source": [
    "First we will see how the model performs without regularisation, before comparing to a regularised model."
   ]
  },
  {
   "cell_type": "code",
   "execution_count": 58,
   "metadata": {},
   "outputs": [
    {
     "name": "stdout",
     "output_type": "stream",
     "text": [
      "Mean cross-validation score: 0.767\n"
     ]
    }
   ],
   "source": [
    "# create the logistic regression classifier\n",
    "log_reg = LogisticRegression(solver='liblinear', C = 1e5)\n",
    "# instantiate the GridSearch object\n",
    "log_reg_cv = cross_val_score(log_reg, X_scaled, y, cv = 5)\n",
    "print('Mean cross-validation score: {:.3f}'.format(np.mean(log_reg_cv)))"
   ]
  },
  {
   "cell_type": "markdown",
   "metadata": {},
   "source": [
    "In sklearn a logistic regression classifier can take two regularisation types, ridge (L2) or lasso (L1). The elastic net penalty is a linear combination of ridge and lasso types. Sklearn uses the regularisation hyperparameter $C=\\frac{1}{\\alpha}$, where $\\alpha$ is the regularisation hyperparameter found in the regularised logistic regression cost function. If we create a grid of possible $C$ values, we can perform a cross-validated grid search to find the optimal value of $C$ for our model. We can also identify the optimal penalty type."
   ]
  },
  {
   "cell_type": "code",
   "execution_count": 59,
   "metadata": {},
   "outputs": [
    {
     "name": "stdout",
     "output_type": "stream",
     "text": [
      "Tuned Logistic Regression Parameter: {'C': 0.03359818286283781, 'penalty': 'l2'}\n",
      "Tuned Logistic Regression Accuracy: 0.777\n"
     ]
    }
   ],
   "source": [
    "# setup the hyperparameter grid\n",
    "c_space = np.logspace(-2, 3, 20)\n",
    "param_grid = {'C': c_space, 'penalty': ['l1', 'l2']}\n",
    "# generate classifier\n",
    "log_reg2 = LogisticRegression(solver = 'liblinear')\n",
    "# perform cross-validated grid search\n",
    "log_reg_cv = GridSearchCV(log_reg2, param_grid, cv = 5)\n",
    "log_reg_cv.fit(X_scaled, y)\n",
    "print('Tuned Logistic Regression Parameter: {}'.format(log_reg_cv.best_params_))\n",
    "print('Tuned Logistic Regression Accuracy: {:.3f}'.format(log_reg_cv.best_score_))"
   ]
  },
  {
   "cell_type": "markdown",
   "metadata": {},
   "source": [
    "The cross-validated grid search chooses ridge regression and an associated $C$ value for optimal model performance. However, we can see from the cross-validated accuracy score that model performance is only marginally better than in the unregularised case. "
   ]
  },
  {
   "cell_type": "markdown",
   "metadata": {},
   "source": [
    "Another useful tool for evaluating a logistic regression classifier is the Receiver Operating Characteristic (ROC) curve, which is a plot of the true positive rate vs false positive rate as the hypothesis function threshold is varied. The Area Under the Curve (AUC) score gives a general indication of model performance."
   ]
  },
  {
   "cell_type": "code",
   "execution_count": 60,
   "metadata": {},
   "outputs": [
    {
     "data": {
      "image/png": "[encoded data removed]",
      "text/plain": [
       "<Figure size 720x720 with 1 Axes>"
      ]
     },
     "metadata": {},
     "output_type": "display_data"
    }
   ],
   "source": [
    "# create optimal classifier from tuned hyperparameters\n",
    "log_reg_optimal = log_reg_cv.best_estimator_\n",
    "\n",
    "# generate training and testing sets \n",
    "X_train, X_test, y_train, y_test = train_test_split(X_scaled, y, test_size = 0.3,\n",
    "                                   random_state = 42)\n",
    "\n",
    "# train classifier \n",
    "log_reg_optimal.fit(X_train, y_train)\n",
    "# make predictions on test set\n",
    "y_pred = log_reg_optimal.predict(X_test)\n",
    "\n",
    "# generate plot\n",
    "sns.set_style('darkgrid')\n",
    "fig = plt.figure(figsize = (10, 10))\n",
    "ax = fig.add_subplot(111)\n",
    "ax.plot([0, 1], [0, 1], 'k--')\n",
    "ax.set_xlabel('False Positive Rate', fontsize = 12)\n",
    "ax.set_ylabel('True Positive Rate', fontsize = 12)\n",
    "ax.set_title('ROC Curve', fontsize = 16)\n",
    "ax.set_ylim(0,)\n",
    "\n",
    "# plot ROC curve\n",
    "# get probabilities that y_test is predicted 1\n",
    "y_pred_prob = log_reg_optimal.predict_proba(X_test)[:,1]\n",
    "# get false positive and true positive rates\n",
    "fpr, tpr, thresholds = roc_curve(y_test, y_pred_prob)\n",
    "# compute area under curve score\n",
    "auc_score = roc_auc_score(y_test, y_pred)\n",
    "# plot ROC curve on ax\n",
    "ax.plot(fpr, tpr, label = 'AUC = {:.2f}'.format(auc_score))\n",
    "plt.legend(loc = 'lower right', prop = {'size': 20})\n",
    "plt.show()"
   ]
  },
  {
   "cell_type": "markdown",
   "metadata": {},
   "source": [
    "The relative magnitudes of the coefficients can give us a rough idea of the predictive power of the features in a logistic regression model."
   ]
  },
  {
   "cell_type": "code",
   "execution_count": 61,
   "metadata": {},
   "outputs": [
    {
     "data": {
      "image/png": "[encoded data removed]",
      "text/plain": [
       "<Figure size 1008x1008 with 1 Axes>"
      ]
     },
     "metadata": {},
     "output_type": "display_data"
    }
   ],
   "source": [
    "# get coefficients and plot\n",
    "coeffs = log_reg_optimal.coef_[0]\n",
    "plt.figure(figsize = (14, 14))\n",
    "bar_names = X.columns\n",
    "sns.barplot(bar_names, coeffs)\n",
    "plt.xticks(rotation = 90)\n",
    "plt.show()"
   ]
  },
  {
   "cell_type": "markdown",
   "metadata": {},
   "source": [
    "Blood glucose and bmi appear to be the features with the greatest predictive power in the model. These are the two features that we saw were most highly correlated with the diabetes variable earlier. "
   ]
  }
 ],
 "metadata": {
  "kernelspec": {
   "display_name": "Python 3",
   "language": "python",
   "name": "python3"
  },
  "language_info": {
   "codemirror_mode": {
    "name": "ipython",
    "version": 3
   },
   "file_extension": ".py",
   "mimetype": "text/x-python",
   "name": "python",
   "nbconvert_exporter": "python",
   "pygments_lexer": "ipython3",
   "version": "3.7.3"
  }
 },
 "nbformat": 4,
 "nbformat_minor": 2
}
