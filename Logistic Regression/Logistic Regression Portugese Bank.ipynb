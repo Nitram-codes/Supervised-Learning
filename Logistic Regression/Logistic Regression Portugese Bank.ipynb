{
 "cells": [
  {
   "cell_type": "markdown",
   "metadata": {},
   "source": [
    "# Using a Logistic Regression Classifier to Predict Whether or Not a Client will Subscribe to a Term Deposit"
   ]
  },
  {
   "cell_type": "markdown",
   "metadata": {},
   "source": [
    "The objective of this program is to train a logistic regression classifier on a Portugese banking dataset (taken from UCI Machine Learning Repository) to make predictions on whether or not a client will subscribe to a term deposit. Features in the dataset include age, job type, marital status, education level, and previous loans. "
   ]
  },
  {
   "cell_type": "markdown",
   "metadata": {},
   "source": [
    "We begin by reading the data into a Pandas dataframe and removing unwanted values."
   ]
  },
  {
   "cell_type": "code",
   "execution_count": 1,
   "metadata": {},
   "outputs": [
    {
     "name": "stdout",
     "output_type": "stream",
     "text": [
      "age               0\n",
      "job               0\n",
      "marital           0\n",
      "education         0\n",
      "default           0\n",
      "housing           0\n",
      "loan              0\n",
      "contact           0\n",
      "month             0\n",
      "day_of_week       0\n",
      "duration          0\n",
      "campaign          0\n",
      "pdays             0\n",
      "previous          0\n",
      "poutcome          0\n",
      "emp_var_rate      0\n",
      "cons_price_idx    0\n",
      "cons_conf_idx     0\n",
      "euribor3m         0\n",
      "nr_employed       0\n",
      "y                 0\n",
      "dtype: int64\n"
     ]
    }
   ],
   "source": [
    "import pandas as pd\n",
    "import numpy as np\n",
    "import seaborn as sns\n",
    "import matplotlib.pyplot as plt\n",
    "from sklearn.model_selection import train_test_split\n",
    "from sklearn.linear_model import LogisticRegression\n",
    "from sklearn.metrics import classification_report, confusion_matrix, roc_curve, roc_auc_score\n",
    "from sklearn.model_selection import GridSearchCV\n",
    "from scipy.stats import zscore\n",
    "import warnings\n",
    "warnings.simplefilter(action='ignore', category=FutureWarning)\n",
    "\n",
    "# read data into pandas dataframe\n",
    "df = pd.read_csv('Portugese_bank_data.csv')\n",
    "\n",
    "# check if there are any missing entries in the data\n",
    "print(df.isnull().sum())\n",
    "\n",
    "# remove any samples with 'unknown'\n",
    "cols = df.columns\n",
    "for col in cols:\n",
    "    # get indexes of column where value is unknown\n",
    "    indexes = df[df[col] == 'unknown'].index\n",
    "    # drop all rows given by 'indexes'\n",
    "    df.drop(indexes, inplace = True)"
   ]
  },
  {
   "cell_type": "markdown",
   "metadata": {},
   "source": [
    "There are no missing values in the data. However, the string 'unknown' appears for unknown values and will have to be dealt with. We could choose to use imputation, but with a large sample size we can afford to simply remove any rows with these entries."
   ]
  },
  {
   "cell_type": "markdown",
   "metadata": {},
   "source": [
    "The values in the 'education' column are overcomplicated. We will combine several basic education values into a single value."
   ]
  },
  {
   "cell_type": "code",
   "execution_count": 2,
   "metadata": {},
   "outputs": [],
   "source": [
    "# combine basic.4y, basic.6y, basic.9y into basic in 'education' column\n",
    "# np.where(condition, apply if condition is met, apply if condition is not met)\n",
    "df['education'] = np.where(df['education'] == 'basic.4y', 'basic', df['education'])\n",
    "df['education'] = np.where(df['education'] == 'basic.6y', 'basic', df['education'])\n",
    "df['education'] = np.where(df['education'] == 'basic.9y', 'basic', df['education'])"
   ]
  },
  {
   "cell_type": "markdown",
   "metadata": {},
   "source": [
    "The dataset is a mixture of numeric and categorical data. We will have to convert the categorical data into binary columns for sklearn to understand it. This is undertaken with the get_dummies function, which generates binary columns that indicate the values in the original column. The data in the different numeric columns can vary by orders of magnitude, so it is important that we (standard) scale the data before employing the regularised logistic regression classifier. Afterwards we recombine the data, assign the features and the target variable (has the client subscribed to a term deposit?), and split into training and testing sets."
   ]
  },
  {
   "cell_type": "code",
   "execution_count": 3,
   "metadata": {},
   "outputs": [],
   "source": [
    "# split into categorical and numeric data\n",
    "num_data = df[['age', 'duration', 'campaign', 'pdays', 'previous',\n",
    "               'emp_var_rate', 'cons_price_idx','cons_conf_idx',\n",
    "               'euribor3m', 'nr_employed']]\n",
    "cat_data = df.drop(num_data.columns, axis = 1)\n",
    "# drop the target variable\n",
    "cat_data = cat_data.drop('y', axis = 1)\n",
    "\n",
    "# convert categorical data into binary columns\n",
    "cat_cols = cat_data.columns\n",
    "for cat in cat_cols:\n",
    "    # generate binary columns, remembering to drop one column as they are collinear\n",
    "    new_col = pd.get_dummies(cat_data[cat], drop_first = True)\n",
    "    # add new columns to df\n",
    "    cat_data = pd.concat([cat_data, new_col], axis = 1)\n",
    "    # drop original column\n",
    "    cat_data = cat_data.drop(cat, axis = 1)\n",
    "\n",
    "# scale only the numeric data with continuous values\n",
    "# z = (x - mu)/s\n",
    "# z = standard score, mu = column mean, s = column standard deviation\n",
    "# x = training sample\n",
    "num_data = num_data.apply(zscore)\n",
    "\n",
    "# recombine the numeric and categorical data to form X\n",
    "X = pd.concat([num_data, cat_data], axis = 1)\n",
    "# assign target variable\n",
    "y = df['y']\n",
    "\n",
    "# split into training and testing data\n",
    "X_train, X_test, y_train, y_test = train_test_split(X, y, test_size=0.2,\n",
    "                                                    random_state=3)"
   ]
  },
  {
   "cell_type": "markdown",
   "metadata": {},
   "source": [
    "We are going to utilise ridge regularised logistic regression which has the regularisation parameter $\\alpha$. Sklearn employs the parameter $C = \\frac{1}{\\alpha}$. To find the optimal regularisation for the model we will create a grid of $C$ values and perform a cross-validated grid search over it."
   ]
  },
  {
   "cell_type": "code",
   "execution_count": 4,
   "metadata": {},
   "outputs": [
    {
     "name": "stdout",
     "output_type": "stream",
     "text": [
      "Tuned Logistic Regression Parameter: C = 1.03\n",
      "Tuned Logistic Regression Accuracy: 0.90\n"
     ]
    }
   ],
   "source": [
    "# create logistic regressor\n",
    "log_reg = LogisticRegression(penalty = 'l2', solver = 'liblinear')\n",
    "# create grid of C values\n",
    "c_space = np.linspace(1e-2, 50, 50)\n",
    "param_grid = {'C': c_space}\n",
    "# perform gridsearch cross-validation\n",
    "log_reg_cv = GridSearchCV(log_reg, param_grid, cv = 5)\n",
    "log_reg_cv.fit(X_train, y_train)\n",
    "print('Tuned Logistic Regression Parameter: C = {:.2f}'.format(log_reg_cv.best_params_['C']))\n",
    "print('Tuned Logistic Regression Accuracy: {:.2f}'.format(log_reg_cv.best_score_))"
   ]
  },
  {
   "cell_type": "markdown",
   "metadata": {},
   "source": [
    "The optimal regularisation hyperparameter $\\alpha \\approx 1$. We can place a high degree of trust in our classifier, as it is capable of correctly predicting whether or not a client will subscribe to a term deposit in 90% of new samples."
   ]
  },
  {
   "cell_type": "markdown",
   "metadata": {},
   "source": [
    "We can create a new classifier with the tuned hyperparameters found by the grid search and make predictions on the testing set. The confusion matrix and classfication report further help us to evaluate the model performance."
   ]
  },
  {
   "cell_type": "code",
   "execution_count": 15,
   "metadata": {},
   "outputs": [
    {
     "name": "stdout",
     "output_type": "stream",
     "text": [
      "[[5159  162]\n",
      " [ 416  361]]\n",
      "              precision    recall  f1-score   support\n",
      "\n",
      "           0       0.93      0.97      0.95      5321\n",
      "           1       0.69      0.46      0.56       777\n",
      "\n",
      "    accuracy                           0.91      6098\n",
      "   macro avg       0.81      0.72      0.75      6098\n",
      "weighted avg       0.90      0.91      0.90      6098\n",
      "\n"
     ]
    }
   ],
   "source": [
    "log_reg_optimal = log_reg_cv.best_estimator_\n",
    "log_reg_optimal.fit(X_train, y_train)\n",
    "# predict y_test\n",
    "y_pred = log_reg_optimal.predict(X_test)\n",
    "# generate confusion matrix\n",
    "print(confusion_matrix(y_test, y_pred))\n",
    "# generate classification report\n",
    "print(classification_report(y_test, y_pred))"
   ]
  },
  {
   "cell_type": "markdown",
   "metadata": {},
   "source": [
    "The model performs significantly better for negative samples than positive samples. This is due to the small proportion (<15%) of positive samples in the data. The fact that the recall is much lower than the precision for the positive samples is a consequence of the relatively large numbers of false negatives."
   ]
  },
  {
   "cell_type": "markdown",
   "metadata": {},
   "source": [
    "Another useful tool for evaluating a logistic regression classifier is the Receiver Operating Characteristic (ROC) curve, which is a plot of the true positive rate vs false positive rate as the hypothesis function threshold is varied. The Area Under the Curve (AUC) score gives a general indication of model performance. "
   ]
  },
  {
   "cell_type": "code",
   "execution_count": 16,
   "metadata": {},
   "outputs": [
    {
     "data": {
      "image/png": "[encoded data removed]",
      "text/plain": [
       "<Figure size 720x720 with 1 Axes>"
      ]
     },
     "metadata": {},
     "output_type": "display_data"
    }
   ],
   "source": [
    "# generate plot\n",
    "fig = plt.figure(figsize = (10, 10))\n",
    "ax = fig.add_subplot(111)\n",
    "ax.plot([0, 1], [0, 1], 'k--')\n",
    "ax.set_xlabel('False Positive Rate', fontsize = 12)\n",
    "ax.set_ylabel('True Positive Rate', fontsize = 12)\n",
    "ax.set_title('ROC Curve', fontsize = 16)\n",
    "ax.set_ylim(0,)\n",
    "\n",
    "# plot ROC curve\n",
    "# get probabilities that y_test is predicted 1\n",
    "y_pred_prob = log_reg_optimal.predict_proba(X_test)[:,1]\n",
    "# get false positive and true positive rates\n",
    "fpr, tpr, thresholds = roc_curve(y_test, y_pred_prob)\n",
    "# compute area under curve score\n",
    "auc_score = roc_auc_score(y_test, y_pred)\n",
    "# plot ROC curve on ax\n",
    "ax.plot(fpr, tpr, label = 'AUC = {:.2f}'.format(auc_score))\n",
    "plt.legend(loc = 'lower right', prop = {'size': 20})\n",
    "plt.show()"
   ]
  }
 ],
 "metadata": {
  "kernelspec": {
   "display_name": "Python 3",
   "language": "python",
   "name": "python3"
  },
  "language_info": {
   "codemirror_mode": {
    "name": "ipython",
    "version": 3
   },
   "file_extension": ".py",
   "mimetype": "text/x-python",
   "name": "python",
   "nbconvert_exporter": "python",
   "pygments_lexer": "ipython3",
   "version": "3.7.3"
  }
 },
 "nbformat": 4,
 "nbformat_minor": 2
}
