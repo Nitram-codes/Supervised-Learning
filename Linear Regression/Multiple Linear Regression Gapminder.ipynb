{
 "cells": [
  {
   "cell_type": "markdown",
   "metadata": {},
   "source": [
    "# Using a Multiple Linear Regression Classifier on the Gapminder Dataset to Predict Life Expectancy"
   ]
  },
  {
   "cell_type": "markdown",
   "metadata": {},
   "source": [
    "In this program we will use features in the Gapminder dataset such as fertility, Gross Domestic Product (GDP), Body Mass Index (BMI), and child mortality to predict life expectancy. Each row in the dataset represents the data for a country. A linear regression classifier is the obvious choice for a predictive model when the target variable (life expectancy) is continuous. "
   ]
  },
  {
   "cell_type": "markdown",
   "metadata": {},
   "source": [
    "We begin by importing the data and checking for missing values."
   ]
  },
  {
   "cell_type": "code",
   "execution_count": 7,
   "metadata": {},
   "outputs": [
    {
     "name": "stdout",
     "output_type": "stream",
     "text": [
      "population         0\n",
      "fertility          0\n",
      "HIV                0\n",
      "CO2                0\n",
      "BMI_male           0\n",
      "GDP                0\n",
      "BMI_female         0\n",
      "life               0\n",
      "child_mortality    0\n",
      "Region             0\n",
      "dtype: int64\n",
      "\n",
      "\n",
      "Nan values present: False\n"
     ]
    },
    {
     "data": {
      "text/html": [
       "<div>\n",
       "<style scoped>\n",
       "    .dataframe tbody tr th:only-of-type {\n",
       "        vertical-align: middle;\n",
       "    }\n",
       "\n",
       "    .dataframe tbody tr th {\n",
       "        vertical-align: top;\n",
       "    }\n",
       "\n",
       "    .dataframe thead th {\n",
       "        text-align: right;\n",
       "    }\n",
       "</style>\n",
       "<table border=\"1\" class=\"dataframe\">\n",
       "  <thead>\n",
       "    <tr style=\"text-align: right;\">\n",
       "      <th></th>\n",
       "      <th>population</th>\n",
       "      <th>fertility</th>\n",
       "      <th>HIV</th>\n",
       "      <th>CO2</th>\n",
       "      <th>BMI_male</th>\n",
       "      <th>GDP</th>\n",
       "      <th>BMI_female</th>\n",
       "      <th>life</th>\n",
       "      <th>child_mortality</th>\n",
       "      <th>Region</th>\n",
       "    </tr>\n",
       "  </thead>\n",
       "  <tbody>\n",
       "    <tr>\n",
       "      <th>13</th>\n",
       "      <td>8973525.0</td>\n",
       "      <td>5.27</td>\n",
       "      <td>1.2</td>\n",
       "      <td>0.537539</td>\n",
       "      <td>22.41835</td>\n",
       "      <td>1646.0</td>\n",
       "      <td>130.2723</td>\n",
       "      <td>63.2</td>\n",
       "      <td>116.3</td>\n",
       "      <td>Sub-Saharan Africa</td>\n",
       "    </tr>\n",
       "    <tr>\n",
       "      <th>95</th>\n",
       "      <td>2652281.0</td>\n",
       "      <td>2.89</td>\n",
       "      <td>0.1</td>\n",
       "      <td>15.572080</td>\n",
       "      <td>26.24109</td>\n",
       "      <td>47799.0</td>\n",
       "      <td>126.8870</td>\n",
       "      <td>74.6</td>\n",
       "      <td>11.9</td>\n",
       "      <td>Middle East &amp; North Africa</td>\n",
       "    </tr>\n",
       "    <tr>\n",
       "      <th>40</th>\n",
       "      <td>1339941.0</td>\n",
       "      <td>1.62</td>\n",
       "      <td>1.2</td>\n",
       "      <td>13.031379</td>\n",
       "      <td>26.26446</td>\n",
       "      <td>24743.0</td>\n",
       "      <td>129.5161</td>\n",
       "      <td>74.0</td>\n",
       "      <td>5.5</td>\n",
       "      <td>Europe &amp; Central Asia</td>\n",
       "    </tr>\n",
       "    <tr>\n",
       "      <th>88</th>\n",
       "      <td>26325183.0</td>\n",
       "      <td>2.90</td>\n",
       "      <td>0.4</td>\n",
       "      <td>0.105413</td>\n",
       "      <td>20.76344</td>\n",
       "      <td>1866.0</td>\n",
       "      <td>125.5561</td>\n",
       "      <td>68.6</td>\n",
       "      <td>50.7</td>\n",
       "      <td>South Asia</td>\n",
       "    </tr>\n",
       "    <tr>\n",
       "      <th>111</th>\n",
       "      <td>4849641.0</td>\n",
       "      <td>1.28</td>\n",
       "      <td>0.1</td>\n",
       "      <td>4.114441</td>\n",
       "      <td>23.83996</td>\n",
       "      <td>65991.0</td>\n",
       "      <td>121.1736</td>\n",
       "      <td>80.9</td>\n",
       "      <td>2.8</td>\n",
       "      <td>East Asia &amp; Pacific</td>\n",
       "    </tr>\n",
       "    <tr>\n",
       "      <th>23</th>\n",
       "      <td>33363256.0</td>\n",
       "      <td>1.68</td>\n",
       "      <td>0.2</td>\n",
       "      <td>16.350399</td>\n",
       "      <td>27.45210</td>\n",
       "      <td>41468.0</td>\n",
       "      <td>118.0571</td>\n",
       "      <td>80.7</td>\n",
       "      <td>5.8</td>\n",
       "      <td>America</td>\n",
       "    </tr>\n",
       "    <tr>\n",
       "      <th>5</th>\n",
       "      <td>8331465.0</td>\n",
       "      <td>1.41</td>\n",
       "      <td>0.3</td>\n",
       "      <td>8.183160</td>\n",
       "      <td>26.46741</td>\n",
       "      <td>43952.0</td>\n",
       "      <td>124.1394</td>\n",
       "      <td>80.4</td>\n",
       "      <td>4.6</td>\n",
       "      <td>Europe &amp; Central Asia</td>\n",
       "    </tr>\n",
       "    <tr>\n",
       "      <th>119</th>\n",
       "      <td>506657.0</td>\n",
       "      <td>2.41</td>\n",
       "      <td>1.0</td>\n",
       "      <td>4.741140</td>\n",
       "      <td>25.49887</td>\n",
       "      <td>13470.0</td>\n",
       "      <td>124.6358</td>\n",
       "      <td>69.1</td>\n",
       "      <td>26.4</td>\n",
       "      <td>America</td>\n",
       "    </tr>\n",
       "    <tr>\n",
       "      <th>30</th>\n",
       "      <td>19261647.0</td>\n",
       "      <td>4.91</td>\n",
       "      <td>3.7</td>\n",
       "      <td>0.361897</td>\n",
       "      <td>22.56469</td>\n",
       "      <td>2854.0</td>\n",
       "      <td>131.5237</td>\n",
       "      <td>55.9</td>\n",
       "      <td>116.9</td>\n",
       "      <td>Sub-Saharan Africa</td>\n",
       "    </tr>\n",
       "    <tr>\n",
       "      <th>132</th>\n",
       "      <td>61689620.0</td>\n",
       "      <td>1.87</td>\n",
       "      <td>0.2</td>\n",
       "      <td>8.526467</td>\n",
       "      <td>27.39249</td>\n",
       "      <td>37739.0</td>\n",
       "      <td>124.0845</td>\n",
       "      <td>79.5</td>\n",
       "      <td>5.6</td>\n",
       "      <td>Europe &amp; Central Asia</td>\n",
       "    </tr>\n",
       "  </tbody>\n",
       "</table>\n",
       "</div>"
      ],
      "text/plain": [
       "     population  fertility  HIV        CO2  BMI_male      GDP  BMI_female  \\\n",
       "13    8973525.0       5.27  1.2   0.537539  22.41835   1646.0    130.2723   \n",
       "95    2652281.0       2.89  0.1  15.572080  26.24109  47799.0    126.8870   \n",
       "40    1339941.0       1.62  1.2  13.031379  26.26446  24743.0    129.5161   \n",
       "88   26325183.0       2.90  0.4   0.105413  20.76344   1866.0    125.5561   \n",
       "111   4849641.0       1.28  0.1   4.114441  23.83996  65991.0    121.1736   \n",
       "23   33363256.0       1.68  0.2  16.350399  27.45210  41468.0    118.0571   \n",
       "5     8331465.0       1.41  0.3   8.183160  26.46741  43952.0    124.1394   \n",
       "119    506657.0       2.41  1.0   4.741140  25.49887  13470.0    124.6358   \n",
       "30   19261647.0       4.91  3.7   0.361897  22.56469   2854.0    131.5237   \n",
       "132  61689620.0       1.87  0.2   8.526467  27.39249  37739.0    124.0845   \n",
       "\n",
       "     life  child_mortality                      Region  \n",
       "13   63.2            116.3          Sub-Saharan Africa  \n",
       "95   74.6             11.9  Middle East & North Africa  \n",
       "40   74.0              5.5       Europe & Central Asia  \n",
       "88   68.6             50.7                  South Asia  \n",
       "111  80.9              2.8         East Asia & Pacific  \n",
       "23   80.7              5.8                     America  \n",
       "5    80.4              4.6       Europe & Central Asia  \n",
       "119  69.1             26.4                     America  \n",
       "30   55.9            116.9          Sub-Saharan Africa  \n",
       "132  79.5              5.6       Europe & Central Asia  "
      ]
     },
     "execution_count": 7,
     "metadata": {},
     "output_type": "execute_result"
    }
   ],
   "source": [
    "import pandas as pd\n",
    "import numpy as np\n",
    "import matplotlib.pyplot as plt\n",
    "import seaborn as sns\n",
    "from sklearn.model_selection import GridSearchCV\n",
    "from sklearn.preprocessing import StandardScaler\n",
    "from sklearn.linear_model import ElasticNet\n",
    "from sklearn.pipeline import Pipeline\n",
    "from sklearn.utils import shuffle\n",
    "import warnings\n",
    "from sklearn.utils.testing import ignore_warnings\n",
    "from sklearn.exceptions import ConvergenceWarning\n",
    "warnings.simplefilter(\"ignore\", category=ConvergenceWarning)\n",
    "warnings.simplefilter(\"ignore\", category=DeprecationWarning)\n",
    "\n",
    "# read the data into a Pandas data frame\n",
    "df = pd.read_csv('Gapminder.csv')\n",
    "# shuffle data before use with sklearn\n",
    "df = shuffle(df)\n",
    "# check for missing and nan values\n",
    "print(df.isnull().sum())\n",
    "print('\\n')\n",
    "print('Nan values present: {}'.format(df.isnull().values.any()))\n",
    "# inspect first 10 rows\n",
    "df.head(10)"
   ]
  },
  {
   "cell_type": "code",
   "execution_count": 8,
   "metadata": {},
   "outputs": [
    {
     "data": {
      "text/html": [
       "<div>\n",
       "<style scoped>\n",
       "    .dataframe tbody tr th:only-of-type {\n",
       "        vertical-align: middle;\n",
       "    }\n",
       "\n",
       "    .dataframe tbody tr th {\n",
       "        vertical-align: top;\n",
       "    }\n",
       "\n",
       "    .dataframe thead th {\n",
       "        text-align: right;\n",
       "    }\n",
       "</style>\n",
       "<table border=\"1\" class=\"dataframe\">\n",
       "  <thead>\n",
       "    <tr style=\"text-align: right;\">\n",
       "      <th></th>\n",
       "      <th>population</th>\n",
       "      <th>fertility</th>\n",
       "      <th>HIV</th>\n",
       "      <th>CO2</th>\n",
       "      <th>BMI_male</th>\n",
       "      <th>GDP</th>\n",
       "      <th>BMI_female</th>\n",
       "      <th>life</th>\n",
       "      <th>child_mortality</th>\n",
       "    </tr>\n",
       "  </thead>\n",
       "  <tbody>\n",
       "    <tr>\n",
       "      <th>count</th>\n",
       "      <td>1.390000e+02</td>\n",
       "      <td>139.000000</td>\n",
       "      <td>139.000000</td>\n",
       "      <td>139.000000</td>\n",
       "      <td>139.000000</td>\n",
       "      <td>139.000000</td>\n",
       "      <td>139.000000</td>\n",
       "      <td>139.000000</td>\n",
       "      <td>139.000000</td>\n",
       "    </tr>\n",
       "    <tr>\n",
       "      <th>mean</th>\n",
       "      <td>3.549977e+07</td>\n",
       "      <td>3.005108</td>\n",
       "      <td>1.915612</td>\n",
       "      <td>4.459874</td>\n",
       "      <td>24.623054</td>\n",
       "      <td>16638.784173</td>\n",
       "      <td>126.701914</td>\n",
       "      <td>69.602878</td>\n",
       "      <td>45.097122</td>\n",
       "    </tr>\n",
       "    <tr>\n",
       "      <th>std</th>\n",
       "      <td>1.095121e+08</td>\n",
       "      <td>1.615354</td>\n",
       "      <td>4.408974</td>\n",
       "      <td>6.268349</td>\n",
       "      <td>2.209368</td>\n",
       "      <td>19207.299083</td>\n",
       "      <td>4.471997</td>\n",
       "      <td>9.122189</td>\n",
       "      <td>45.724667</td>\n",
       "    </tr>\n",
       "    <tr>\n",
       "      <th>min</th>\n",
       "      <td>2.773150e+05</td>\n",
       "      <td>1.280000</td>\n",
       "      <td>0.060000</td>\n",
       "      <td>0.008618</td>\n",
       "      <td>20.397420</td>\n",
       "      <td>588.000000</td>\n",
       "      <td>117.375500</td>\n",
       "      <td>45.200000</td>\n",
       "      <td>2.700000</td>\n",
       "    </tr>\n",
       "    <tr>\n",
       "      <th>25%</th>\n",
       "      <td>3.752776e+06</td>\n",
       "      <td>1.810000</td>\n",
       "      <td>0.100000</td>\n",
       "      <td>0.496190</td>\n",
       "      <td>22.448135</td>\n",
       "      <td>2899.000000</td>\n",
       "      <td>123.232200</td>\n",
       "      <td>62.200000</td>\n",
       "      <td>8.100000</td>\n",
       "    </tr>\n",
       "    <tr>\n",
       "      <th>50%</th>\n",
       "      <td>9.705130e+06</td>\n",
       "      <td>2.410000</td>\n",
       "      <td>0.400000</td>\n",
       "      <td>2.223796</td>\n",
       "      <td>25.156990</td>\n",
       "      <td>9938.000000</td>\n",
       "      <td>126.519600</td>\n",
       "      <td>72.000000</td>\n",
       "      <td>24.000000</td>\n",
       "    </tr>\n",
       "    <tr>\n",
       "      <th>75%</th>\n",
       "      <td>2.791973e+07</td>\n",
       "      <td>4.095000</td>\n",
       "      <td>1.300000</td>\n",
       "      <td>6.589156</td>\n",
       "      <td>26.497575</td>\n",
       "      <td>23278.500000</td>\n",
       "      <td>130.275900</td>\n",
       "      <td>76.850000</td>\n",
       "      <td>74.200000</td>\n",
       "    </tr>\n",
       "    <tr>\n",
       "      <th>max</th>\n",
       "      <td>1.197070e+09</td>\n",
       "      <td>7.590000</td>\n",
       "      <td>25.900000</td>\n",
       "      <td>48.702062</td>\n",
       "      <td>28.456980</td>\n",
       "      <td>126076.000000</td>\n",
       "      <td>135.492000</td>\n",
       "      <td>82.600000</td>\n",
       "      <td>192.000000</td>\n",
       "    </tr>\n",
       "  </tbody>\n",
       "</table>\n",
       "</div>"
      ],
      "text/plain": [
       "         population   fertility         HIV         CO2    BMI_male  \\\n",
       "count  1.390000e+02  139.000000  139.000000  139.000000  139.000000   \n",
       "mean   3.549977e+07    3.005108    1.915612    4.459874   24.623054   \n",
       "std    1.095121e+08    1.615354    4.408974    6.268349    2.209368   \n",
       "min    2.773150e+05    1.280000    0.060000    0.008618   20.397420   \n",
       "25%    3.752776e+06    1.810000    0.100000    0.496190   22.448135   \n",
       "50%    9.705130e+06    2.410000    0.400000    2.223796   25.156990   \n",
       "75%    2.791973e+07    4.095000    1.300000    6.589156   26.497575   \n",
       "max    1.197070e+09    7.590000   25.900000   48.702062   28.456980   \n",
       "\n",
       "                 GDP  BMI_female        life  child_mortality  \n",
       "count     139.000000  139.000000  139.000000       139.000000  \n",
       "mean    16638.784173  126.701914   69.602878        45.097122  \n",
       "std     19207.299083    4.471997    9.122189        45.724667  \n",
       "min       588.000000  117.375500   45.200000         2.700000  \n",
       "25%      2899.000000  123.232200   62.200000         8.100000  \n",
       "50%      9938.000000  126.519600   72.000000        24.000000  \n",
       "75%     23278.500000  130.275900   76.850000        74.200000  \n",
       "max    126076.000000  135.492000   82.600000       192.000000  "
      ]
     },
     "execution_count": 8,
     "metadata": {},
     "output_type": "execute_result"
    }
   ],
   "source": [
    "# print basic statistics\n",
    "df.describe()"
   ]
  },
  {
   "cell_type": "markdown",
   "metadata": {},
   "source": [
    "We will not be able to use the categorical 'Region' feature in a linear regression model so we drop it and assign the rest of the features to X, minus 'life' which is assigned as the target."
   ]
  },
  {
   "cell_type": "code",
   "execution_count": 9,
   "metadata": {},
   "outputs": [
    {
     "data": {
      "image/png": "[encoded data removed]",
      "text/plain": [
       "<Figure size 720x720 with 1 Axes>"
      ]
     },
     "metadata": {},
     "output_type": "display_data"
    }
   ],
   "source": [
    "# assign the X and y data\n",
    "X = df.drop(['life', 'Region'], axis = 1).values\n",
    "y = pd.Series(df['life'], name = 'Life expectancy')\n",
    "\n",
    "# create a distribution plot of the target\n",
    "sns.set_style('darkgrid')\n",
    "fig = plt.figure(figsize = (10, 10))\n",
    "ax = sns.distplot(y, bins = 30)\n",
    "plt.show()"
   ]
  },
  {
   "cell_type": "markdown",
   "metadata": {},
   "source": [
    "The life expectancy shows a left-skewed normal distrbution."
   ]
  },
  {
   "cell_type": "markdown",
   "metadata": {},
   "source": [
    "We can produce a correlation matrix to visualise the correlations between the variables in the dataset."
   ]
  },
  {
   "cell_type": "code",
   "execution_count": 10,
   "metadata": {},
   "outputs": [
    {
     "data": {
      "image/png": "[encoded data removed]",
      "text/plain": [
       "<Figure size 504x504 with 2 Axes>"
      ]
     },
     "metadata": {},
     "output_type": "display_data"
    }
   ],
   "source": [
    "# create a correlation matrix that measures the relationships between the variables\n",
    "correlation_matrix = df.corr().round(2)\n",
    "fig = plt.figure(figsize = (7, 7))\n",
    "ax = sns.heatmap(correlation_matrix, annot = True, cmap = 'jet')\n",
    "# visualise the matrix\n",
    "plt.show()"
   ]
  },
  {
   "cell_type": "markdown",
   "metadata": {},
   "source": [
    "Male BMI and GDP are the features with the strongest positive correlation with life expectancy, whereas child mortality and fertility are the features with the strongest negative correlation. There also appears to be collinearity between child mortality and fertility, and GDP and CO2. If model performance is not satisfactory we will have to address this issue. "
   ]
  },
  {
   "cell_type": "markdown",
   "metadata": {},
   "source": [
    "The values of the different features vary by many orders of magnitude, so it is crucial that we scale the features if we are using regularisation. We will use StandardScaler which computes the z-score according to $$Z = \\frac{x - \\mu}{\\sigma}$$ where $x$ is the observed value, $\\mu$ is the mean of the feature, and $\\sigma$ is the standard deviation of the feature."
   ]
  },
  {
   "cell_type": "markdown",
   "metadata": {},
   "source": [
    "Elastic Net regularisation (E) employs a linear combination of lasso (L1) and ridge (L2) regularisation, i.e., $E = aL1 + bL2$, where $a$ and $b$ are constants. The L1 ratio corresponds to $a/(a+b)$: an L1 ratio of one is equal to lasso regression, a ratio of zero is equal to ridge regression, and anything in between is a combination of the two.\n",
    "The regularised linear regression cost function utilises the regularisation parameter $\\alpha$. Sklearn makes use of the same parameter, where $\\alpha = a+b$ in elastic net regularisation.\n",
    "We are going to generate an elastic net estimator and grids of the L1 ratio and $\\alpha$ to perform a grid search over. Via this method we can identify the best type of regularisation and $\\alpha$ for the model."
   ]
  },
  {
   "cell_type": "markdown",
   "metadata": {},
   "source": [
    "Although not necessary with such a small dataset, we will employ a pipeline which enhances computational efficiency. We define the steps the pipeline is to make and pass them to the pipeline object. Then we create hyperparameter grids for the L1 ratio and $\\alpha$, and use GridSearchCV to perform a cross-validated grid search and identify the optimal values."
   ]
  },
  {
   "cell_type": "code",
   "execution_count": 11,
   "metadata": {},
   "outputs": [
    {
     "name": "stdout",
     "output_type": "stream",
     "text": [
      "Tuned ElasticNet Alpha: {'elasticnet__alpha': 0.04893900918477494, 'elasticnet__l1_ratio': 0.41379310344827586}\n",
      "Tuned ElasticNet R squared: 0.88\n"
     ]
    }
   ],
   "source": [
    "# setup the pipeline steps\n",
    "steps = [('scaler', StandardScaler()), ('elasticnet', ElasticNet())]\n",
    "# create the pipeline\n",
    "pipeline = Pipeline(steps)\n",
    "# specify the hyperparameter spaces\n",
    "parameters = {'elasticnet__l1_ratio': np.linspace(0, 1, 30), 'elasticnet__alpha': np.logspace(-2, 2, 30)}\n",
    "# create the GridSearchCV object to find the optimum l1 ratio and alpha value\n",
    "lin_reg_cv = GridSearchCV(pipeline, parameters, cv = 5)\n",
    "# fit to the data\n",
    "lin_reg_cv.fit(X, y)\n",
    "# compute the R^2 metric\n",
    "r2 = lin_reg_cv.best_score_\n",
    "print(\"Tuned ElasticNet Alpha: {}\".format(lin_reg_cv.best_params_))\n",
    "print(\"Tuned ElasticNet R squared: {:.2f}\".format(r2))"
   ]
  },
  {
   "cell_type": "markdown",
   "metadata": {},
   "source": [
    "The cross-validated grid search selects a linear combination of ridge and lasso regularisation with a very small $\\alpha$."
   ]
  },
  {
   "cell_type": "markdown",
   "metadata": {},
   "source": [
    "Linear regression uses the coefficient of determination, $R^2$ to measure model performance. It is defined as the proportion of variance in the dependent variable that is predictable from the independent variables. The coefficient of determination normally ranges from zero to one, with a value of one representing the model perfectly fitting the data."
   ]
  },
  {
   "cell_type": "markdown",
   "metadata": {},
   "source": [
    "For a multiple linear regression model we should use the adjusted coefficient of determination $\\hat{R^2}$, which is defined as $$\\hat{R^2} = 1 - (1-R^2)\\frac{(n-1)}{(n-p-1)}$$\n",
    "where $n$ is the number of samples, $R$ is the standard coefficient of determination and $p$ is the number of features."
   ]
  },
  {
   "cell_type": "code",
   "execution_count": 12,
   "metadata": {},
   "outputs": [
    {
     "name": "stdout",
     "output_type": "stream",
     "text": [
      "Adjusted R^2 score for multiple linear regression: 0.87\n"
     ]
    }
   ],
   "source": [
    "def adj_r2(r_squared, X):\n",
    "    n, p = X.shape\n",
    "    return 1 - (1 - r_squared)*((n - 1)/(n - p - 1))\n",
    "\n",
    "print('Adjusted R^2 score for multiple linear regression: {:.2f}'.format(adj_r2(lin_reg_cv.best_score_, X)))"
   ]
  }
 ],
 "metadata": {
  "kernelspec": {
   "display_name": "Python 3",
   "language": "python",
   "name": "python3"
  },
  "language_info": {
   "codemirror_mode": {
    "name": "ipython",
    "version": 3
   },
   "file_extension": ".py",
   "mimetype": "text/x-python",
   "name": "python",
   "nbconvert_exporter": "python",
   "pygments_lexer": "ipython3",
   "version": "3.7.3"
  }
 },
 "nbformat": 4,
 "nbformat_minor": 2
}
